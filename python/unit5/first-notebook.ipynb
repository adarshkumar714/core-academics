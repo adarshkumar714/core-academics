{
 "cells": [
  {
   "cell_type": "code",
   "execution_count": 1,
   "id": "7c44cfd8-0384-4989-8701-a061c0bf1abe",
   "metadata": {},
   "outputs": [],
   "source": [
    "import numpy as np"
   ]
  },
  {
   "cell_type": "code",
   "execution_count": 10,
   "id": "80d900d8-fbaa-435e-bce5-f2f40ccba51b",
   "metadata": {},
   "outputs": [],
   "source": [
    "myarr = np.array([2,3,6,2], np.int8)"
   ]
  },
  {
   "cell_type": "code",
   "execution_count": 12,
   "id": "a0d91b0d-0eb1-49f1-a40e-4aa4ca6e06b3",
   "metadata": {},
   "outputs": [
    {
     "data": {
      "text/plain": [
       "np.int8(2)"
      ]
     },
     "execution_count": 12,
     "metadata": {},
     "output_type": "execute_result"
    }
   ],
   "source": [
    "myarr[0]"
   ]
  },
  {
   "cell_type": "code",
   "execution_count": null,
   "id": "adceabc6-482d-4108-9812-2f3224e9c43b",
   "metadata": {},
   "outputs": [],
   "source": []
  }
 ],
 "metadata": {
  "kernelspec": {
   "display_name": "Python 3 (ipykernel)",
   "language": "python",
   "name": "python3"
  },
  "language_info": {
   "codemirror_mode": {
    "name": "ipython",
    "version": 3
   },
   "file_extension": ".py",
   "mimetype": "text/x-python",
   "name": "python",
   "nbconvert_exporter": "python",
   "pygments_lexer": "ipython3",
   "version": "3.11.2"
  }
 },
 "nbformat": 4,
 "nbformat_minor": 5
}
